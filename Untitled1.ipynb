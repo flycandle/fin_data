{
  "nbformat": 4,
  "nbformat_minor": 0,
  "metadata": {
    "colab": {
      "provenance": [],
      "authorship_tag": "ABX9TyNSnw1FQdd0VGHI+3L3vNpS",
      "include_colab_link": true
    },
    "kernelspec": {
      "name": "python3",
      "display_name": "Python 3"
    },
    "language_info": {
      "name": "python"
    }
  },
  "cells": [
    {
      "cell_type": "markdown",
      "metadata": {
        "id": "view-in-github",
        "colab_type": "text"
      },
      "source": [
        "<a href=\"https://colab.research.google.com/github/flycandle/fin_data/blob/main/Untitled1.ipynb\" target=\"_parent\"><img src=\"https://colab.research.google.com/assets/colab-badge.svg\" alt=\"Open In Colab\"/></a>"
      ]
    },
    {
      "cell_type": "code",
      "execution_count": 2,
      "metadata": {
        "id": "fo2kC19KAegk"
      },
      "outputs": [],
      "source": [
        "import pandas as pd\n",
        "url = \"https://raw.githubusercontent.com/fju155447/fin_data/main/2330.TW.csv\"\n"
      ]
    },
    {
      "cell_type": "code",
      "source": [
        "df = pd.read_csv(url, index_col=0)\n",
        "print(df.head(5))\n"
      ],
      "metadata": {
        "colab": {
          "base_uri": "https://localhost:8080/"
        },
        "id": "vSm8myRhBJxb",
        "outputId": "bf4adf75-c575-4fcf-e056-4bde192fb478"
      },
      "execution_count": 3,
      "outputs": [
        {
          "output_type": "stream",
          "name": "stdout",
          "text": [
            "             Open   High    Low  Close   Adj Close    Volume\n",
            "Date                                                        \n",
            "2020-01-02  332.5  339.0  332.5  339.0  308.986359  31754120\n",
            "2020-01-03  344.0  345.0  335.5  339.5  309.442047  41811268\n",
            "2020-01-06  333.0  334.5  332.0  332.0  302.606049  45343057\n",
            "2020-01-07  332.5  333.0  326.5  329.5  300.327393  50879181\n",
            "2020-01-08  325.0  333.0  325.0  329.5  300.327393  37567748\n"
          ]
        }
      ]
    }
  ]
}